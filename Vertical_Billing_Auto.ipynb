{
 "cells": [
  {
   "cell_type": "code",
   "execution_count": null,
   "id": "60fce062",
   "metadata": {},
   "outputs": [
    {
     "name": "stdout",
     "output_type": "stream",
     "text": [
      "Defaulting to user installation because normal site-packages is not writeable\n",
      "Requirement already satisfied: pywin32 in c:\\users\\zeemoham1\\appdata\\roaming\\python\\python313\\site-packages (308)\n"
     ]
    }
   ],
   "source": [
    "# !pip install pywin32"
   ]
  },
  {
   "cell_type": "code",
   "execution_count": null,
   "id": "8148c8c3",
   "metadata": {},
   "outputs": [],
   "source": [
    "# Make changes in this if required\n",
    "# mail.To = \"corazon.malanes@sutherlandglobal.com; rajesh.a@sutherlandglobal.com; Ganesh.Pillai@SutherlandGlobal.COM; Roel.Florendo@sutherlandglobal.COM; VincelMark.Costa@SUTHERLANDGLOBAL.COM; nitin.rao@sutherlandglobal.com; abhishek.raj@sutherlandglobal.com;businessfinancetechnology@sutherlandglobal.com\"\n",
    "\n",
    "\n",
    "# mail.CC = \"GlobalCapPlanTeam@sutherlandglobal.com; Mohammed.Zeeshan1@sutherlandglobal.com\"\n"
   ]
  },
  {
   "cell_type": "code",
   "execution_count": 2,
   "id": "472ba64b",
   "metadata": {},
   "outputs": [],
   "source": [
    "import pandas as pd\n",
    "import os\n",
    "from datetime import datetime\n",
    "\n",
    "# Get the current working directory where the Jupyter Notebook is located\n",
    "notebook_directory = os.path.abspath('')\n",
    "\n",
    "# Define the source Excel file path (Consolidated billing.xlsx)\n",
    "source_excel_path = os.path.join(notebook_directory, \"Consolidated billing.xlsx\")\n",
    "\n",
    "# Read the source Excel file into a DataFrame\n",
    "df = pd.read_excel(source_excel_path)\n",
    "\n",
    "# Filter the DataFrame based on the \"Vertical\" column\n",
    "filtered_df = df[df[\"Vertical\"] == \"Technology_v\"]\n",
    "\n",
    "# Get the current month and year for the new file name\n",
    "current_date = datetime.now()\n",
    "new_file_name = f\"Consolidated_Billing_Inputs_Technology_Vertical_{current_date.strftime('%B')}'{current_date.strftime('%y')}.xlsx\"\n",
    "\n",
    "# Define the path for the new Excel file (same as the source file)\n",
    "new_excel_path = source_excel_path\n",
    "\n",
    "# Write the filtered data to the same Excel file (overwriting the source file)\n",
    "filtered_df.to_excel(new_excel_path, sheet_name=\"Sheet1\", index=False)\n",
    "\n",
    "# Rename the Excel file to the new name\n",
    "os.rename(new_excel_path, os.path.join(notebook_directory, new_file_name))\n"
   ]
  },
  {
   "cell_type": "code",
   "execution_count": 3,
   "id": "99a9d0a8",
   "metadata": {},
   "outputs": [],
   "source": [
    "import openpyxl\n",
    "from openpyxl.styles import PatternFill, Font\n",
    "from openpyxl.utils import get_column_letter\n",
    "import os\n",
    "\n",
    "# Get the current working directory where the Jupyter Notebook is located\n",
    "notebook_directory = os.path.abspath('')\n",
    "\n",
    "# Define the path to the saved Excel file\n",
    "saved_excel_path = os.path.join(notebook_directory, new_file_name)\n",
    "\n",
    "# Load the saved workbook using openpyxl\n",
    "saved_workbook = openpyxl.load_workbook(saved_excel_path)\n",
    "\n",
    "# Access the active worksheet\n",
    "saved_worksheet = saved_workbook.active\n",
    "\n",
    "# Define a fill pattern for light green background\n",
    "light_green_fill = PatternFill(start_color='90ee90', end_color='90ee90', fill_type='solid')\n",
    "\n",
    "# Apply the light green background to the first row (header)\n",
    "for cell in saved_worksheet[1]:\n",
    "    cell.fill = light_green_fill\n",
    "\n",
    "# Reduce the font size of the rest of the rows by 10%\n",
    "font = Font(size=10)\n",
    "for row in saved_worksheet.iter_rows(min_row=2, values_only=False):\n",
    "    for cell in row:\n",
    "        cell.font = font\n",
    "\n",
    "# Set column width to auto-adjust based on content\n",
    "for column in saved_worksheet.columns:\n",
    "    max_length = 0\n",
    "    column_letter = get_column_letter(column[0].column)\n",
    "    for cell in column:\n",
    "        try:\n",
    "            if len(str(cell.value)) > max_length:\n",
    "                max_length = len(cell.value)\n",
    "        except:\n",
    "            pass\n",
    "    adjusted_width = (max_length + 2)\n",
    "    saved_worksheet.column_dimensions[column_letter].width = adjusted_width\n",
    "\n",
    "# Save the workbook with the updated formatting and column widths\n",
    "saved_workbook.save(saved_excel_path)\n"
   ]
  },
  {
   "cell_type": "code",
   "execution_count": 4,
   "id": "ccfb1d27",
   "metadata": {},
   "outputs": [],
   "source": [
    "import os\n",
    "import win32com.client as win32\n",
    "from datetime import datetime\n",
    "\n",
    "# Get the absolute path to the current working directory (where the notebook is located)\n",
    "notebook_directory = os.path.abspath('')\n",
    "\n",
    "# Specify the Excel file name using a dynamic file name\n",
    "current_date = datetime.now()\n",
    "excel_file_name = f\"Consolidated_Billing_Inputs_Technology_Vertical_{current_date.strftime('%B')}'{current_date.strftime('%y')}.xlsx\"\n",
    "excel_file_path = os.path.join(notebook_directory, excel_file_name)\n",
    "\n",
    "# Initialize Outlook\n",
    "outlook = win32.Dispatch('Outlook.Application')\n",
    "namespace = outlook.GetNamespace(\"MAPI\")\n",
    "\n",
    "# Create a new email\n",
    "mail = outlook.CreateItem(0)\n",
    "\n",
    "# Generate the subject with the current month and year\n",
    "subject = current_date.strftime(\"Technology Vertical Billing Inputs - %B %Y\")\n",
    "mail.Subject = subject\n",
    "\n",
    "# Generate the email body with the current month and year\n",
    "body = f\"Hi All,\\n\\nPlease find attached the billing inputs for the month of {current_date.strftime('%B %Y')}, for technology vertical. Request you to check and confirm on the same.\\n\\nRequest you to pass on this mail to respective stakeholders in case I have missed any.\\n\\nRegards,\\n\\nMohammed Zeeshan\\nLead- Capacity Planner\\nPh: +91 988429140\"\n",
    "mail.Body = body\n",
    "\n",
    "# Add recipients to the 'To' field (use a semicolon to separate multiple recipients)\n",
    "mail.To = \"mohammed.zeeshan1@sutherlandglobal.com\"\n",
    "\n",
    "# Add recipients to the 'CC' field (use a semicolon to separate multiple CC recipients)\n",
    "mail.CC = \"mohammed.zeeshan1@sutherlandglobal.com\"\n",
    "\n",
    "# Attach the Excel file\n",
    "mail.Attachments.Add(excel_file_path)\n",
    "\n",
    "# Send the email\n",
    "mail.Send()\n",
    "\n",
    "# Quit Outlook (optional)\n",
    "# outlook.Quit()\n"
   ]
  },
  {
   "cell_type": "code",
   "execution_count": 5,
   "id": "f6400802",
   "metadata": {},
   "outputs": [
    {
     "name": "stdout",
     "output_type": "stream",
     "text": [
      "Mail sent\n"
     ]
    }
   ],
   "source": [
    "print(\"Mail sent\")"
   ]
  }
 ],
 "metadata": {
  "kernelspec": {
   "display_name": "Python 3",
   "language": "python",
   "name": "python3"
  },
  "language_info": {
   "codemirror_mode": {
    "name": "ipython",
    "version": 3
   },
   "file_extension": ".py",
   "mimetype": "text/x-python",
   "name": "python",
   "nbconvert_exporter": "python",
   "pygments_lexer": "ipython3",
   "version": "3.13.0"
  }
 },
 "nbformat": 4,
 "nbformat_minor": 5
}
